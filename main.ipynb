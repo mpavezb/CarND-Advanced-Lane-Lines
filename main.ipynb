{
 "cells": [
  {
   "cell_type": "markdown",
   "metadata": {},
   "source": [
    "# Self-Driving Car Engineer Nanodegree\n",
    "\n",
    "\n",
    "## Project: **Advanced Lane Finding** \n"
   ]
  },
  {
   "cell_type": "markdown",
   "metadata": {},
   "source": [
    "### Goals \n",
    "\n",
    "1. Compute the camera calibration matrix and distortion coefficients given a set of chessboard images.\n",
    "2. Apply a distortion correction to raw images.\n",
    "3. Use color transforms, gradients, etc., to create a thresholded binary image.\n",
    "4. Apply a perspective transform to rectify binary image (\"birds-eye view\").\n",
    "5. Detect lane pixels and fit to find the lane boundary.\n",
    "6. Determine the curvature of the lane and vehicle position with respect to center.\n",
    "7. Warp the detected lane boundaries back onto the original image.\n",
    "8. Output visual display of the lane boundaries and numerical estimation of lane curvature and vehicle position.\n",
    "\n",
    "\n",
    "### Step-by-Step Examples\n",
    "\n",
    "\n",
    "<figure>\n",
    " <img src=\"examples/undistort_output.png\" width=\"60%\" alt=\"Distortion Correction\" />\n",
    " <figcaption>\n",
    " <p></p> \n",
    " <p style=\"text-align: center;\"> Distortion Correction </p> \n",
    " </figcaption>\n",
    "</figure>\n",
    " <p></p> \n",
    "<figure>\n",
    " <img src=\"examples/binary_combo_example.jpg\" width=\"60%\" alt=\"Binary Combo\" />\n",
    " <figcaption>\n",
    " <p></p> \n",
    " <p style=\"text-align: center;\"> Edge Detection </p> \n",
    " </figcaption>\n",
    "</figure>\n",
    " <p></p> \n",
    "<figure>\n",
    " <img src=\"examples/warped_straight_lines.jpg\" width=\"60%\" alt=\"Perspective Transform\" />\n",
    " <figcaption>\n",
    " <p></p> \n",
    " <p style=\"text-align: center;\"> Perspective Transform </p> \n",
    " </figcaption>\n",
    "</figure>\n",
    " <p></p> \n",
    "<figure>\n",
    " <img src=\"examples/color_fit_lines.jpg\" width=\"60%\" alt=\"Lane Fitting\" />\n",
    " <figcaption>\n",
    " <p></p> \n",
    " <p style=\"text-align: center;\"> Lane Fitting </p> \n",
    " </figcaption>\n",
    "</figure>\n",
    " <p></p> \n",
    "<figure>\n",
    " <img src=\"examples/example_output.jpg\" width=\"60%\" alt=\"Expected Output\" />\n",
    " <figcaption>\n",
    " <p></p> \n",
    " <p style=\"text-align: center;\"> Expected Output </p> \n",
    " </figcaption>\n",
    "</figure>\n",
    " <p></p> \n",
    "\n"
   ]
  },
  {
   "cell_type": "markdown",
   "metadata": {},
   "source": [
    "## IPython Notebook Configuration"
   ]
  },
  {
   "cell_type": "code",
   "execution_count": null,
   "metadata": {},
   "outputs": [],
   "source": [
    "%matplotlib inline\n",
    "%load_ext autoreload\n",
    "%autoreload 2"
   ]
  },
  {
   "cell_type": "markdown",
   "metadata": {},
   "source": [
    "## 1. Camera calibration using chessboard images"
   ]
  },
  {
   "cell_type": "code",
   "execution_count": null,
   "metadata": {
    "scrolled": true
   },
   "outputs": [],
   "source": [
    "from examples import *\n",
    "\n",
    "# Outputs: output_images/calibration_*\n",
    "RunCalibrationExample()"
   ]
  },
  {
   "cell_type": "markdown",
   "metadata": {},
   "source": [
    "## 2. Distortion Correction"
   ]
  },
  {
   "cell_type": "code",
   "execution_count": null,
   "metadata": {
    "scrolled": true
   },
   "outputs": [],
   "source": [
    "from examples import *\n",
    "\n",
    "# Outputs: output_images/distortion_correction_*\n",
    "RunDistortionCorrectionExample()"
   ]
  },
  {
   "cell_type": "markdown",
   "metadata": {},
   "source": [
    "## 3. Edge Detection"
   ]
  },
  {
   "cell_type": "code",
   "execution_count": null,
   "metadata": {
    "scrolled": true
   },
   "outputs": [],
   "source": [
    "from examples import *\n",
    "\n",
    "# Outputs: output_images/edge_detection_*\n",
    "RunEdgeDetectionExample()"
   ]
  },
  {
   "cell_type": "markdown",
   "metadata": {},
   "source": [
    "## 4. Perpective Transformation"
   ]
  },
  {
   "cell_type": "code",
   "execution_count": null,
   "metadata": {
    "scrolled": true
   },
   "outputs": [],
   "source": [
    "from examples import *\n",
    "\n",
    "# Outputs: output_images/warp_*\n",
    "RunPerspectiveTransformExample()"
   ]
  },
  {
   "cell_type": "markdown",
   "metadata": {},
   "source": [
    "## 5-6. Lane Fitting, Curvature and Vehicle Position"
   ]
  },
  {
   "cell_type": "code",
   "execution_count": null,
   "metadata": {
    "scrolled": true
   },
   "outputs": [],
   "source": [
    "from examples import *\n",
    "\n",
    "# Outputs: output_images/lane_fitting_*\n",
    "RunLaneFittingExample()"
   ]
  },
  {
   "cell_type": "markdown",
   "metadata": {},
   "source": [
    "## 7-8. Overlay results in original image"
   ]
  },
  {
   "cell_type": "code",
   "execution_count": null,
   "metadata": {
    "scrolled": true
   },
   "outputs": [],
   "source": [
    "from examples import *\n",
    "\n",
    "# Outputs: output_images/overlay_*\n",
    "RunFullPipelineExample()"
   ]
  },
  {
   "cell_type": "markdown",
   "metadata": {},
   "source": [
    "## 9. Project Video"
   ]
  },
  {
   "cell_type": "code",
   "execution_count": 13,
   "metadata": {},
   "outputs": [
    {
     "name": "stdout",
     "output_type": "stream",
     "text": [
      "========================================\n",
      "Project Video\n",
      "----------------------------------------\n",
      "> Loading data from pickle file: pickle/calibration.p\n",
      "> Using cached calibration data ...\n",
      "> Reading video file: project_video.mp4\n",
      " - Setting Image Handler ...\n",
      " - Computing camera calibration parameters for (w,h)=(1280,720)\n"
     ]
    },
    {
     "name": "stderr",
     "output_type": "stream",
     "text": [
      "\r",
      "  0%|          | 0/1261 [00:00<?, ?it/s]"
     ]
    },
    {
     "name": "stdout",
     "output_type": "stream",
     "text": [
      "> Processing Video ...\n"
     ]
    },
    {
     "name": "stderr",
     "output_type": "stream",
     "text": [
      "100%|█████████▉| 1260/1261 [05:54<00:00,  3.62it/s]\n"
     ]
    },
    {
     "name": "stdout",
     "output_type": "stream",
     "text": [
      "> Profiling Results ...\n",
      " - Total Time                    :  0:05:57 (100.0%)\n",
      " - Distortion  Correction        :  0:00:27 (  7.8%)\n",
      " - Edge Detection                :  0:04:21 ( 73.1%)\n",
      " - Perspective Transform         :  0:00:06 (  1.8%)\n",
      " - Lane Fitting                  :  0:00:30 (  8.6%)\n",
      " - Overlay Drawing               :  0:00:15 (  4.5%)\n",
      " - Processing Time Factor = x7.1\n",
      " -     Original Duration  = 50.40 s\n",
      " -     Elapsed Time       = 357.30 s\n"
     ]
    },
    {
     "data": {
      "text/plain": [
       "'output_videos/project_video.mp4'"
      ]
     },
     "execution_count": 13,
     "metadata": {},
     "output_type": "execute_result"
    }
   ],
   "source": [
    "from main import ProcessProjectVideo\n",
    "\n",
    "\n",
    "#ProcessProjectVideo(subclip_seconds=0.1)\n",
    "ProcessProjectVideo()\n"
   ]
  },
  {
   "cell_type": "code",
   "execution_count": 14,
   "metadata": {
    "scrolled": true
   },
   "outputs": [
    {
     "data": {
      "text/html": [
       "\n",
       "<video width=\"960\" height=\"540\" controls>\n",
       "    <source src=\"output_videos/project_video.mp4\">\n",
       "</video>\n"
      ],
      "text/plain": [
       "<IPython.core.display.HTML object>"
      ]
     },
     "execution_count": 14,
     "metadata": {},
     "output_type": "execute_result"
    }
   ],
   "source": [
    "from IPython.display import HTML\n",
    "\n",
    "output_file = \"output_videos/project_video.mp4\"\n",
    "HTML(\n",
    "\"\"\"\n",
    "<video width=\"960\" height=\"540\" controls>\n",
    "    <source src=\\\"{0}\\\">\n",
    "</video>\n",
    "\"\"\"\n",
    ".format(output_file))"
   ]
  }
 ],
 "metadata": {
  "anaconda-cloud": {},
  "kernelspec": {
   "display_name": "Python 3",
   "language": "python",
   "name": "python3"
  },
  "language_info": {
   "codemirror_mode": {
    "name": "ipython",
    "version": 3
   },
   "file_extension": ".py",
   "mimetype": "text/x-python",
   "name": "python",
   "nbconvert_exporter": "python",
   "pygments_lexer": "ipython3",
   "version": "3.5.2"
  },
  "widgets": {
   "state": {},
   "version": "1.1.2"
  }
 },
 "nbformat": 4,
 "nbformat_minor": 1
}
